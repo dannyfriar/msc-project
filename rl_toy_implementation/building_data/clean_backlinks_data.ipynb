{
 "cells": [
  {
   "cell_type": "code",
   "execution_count": 1,
   "metadata": {
    "collapsed": true
   },
   "outputs": [],
   "source": [
    "import numpy as np\n",
    "import pandas as pd\n",
    "import csv"
   ]
  },
  {
   "cell_type": "code",
   "execution_count": 23,
   "metadata": {
    "collapsed": false
   },
   "outputs": [],
   "source": [
    "backlinks_df = pd.read_csv('data/backlinks.csv')"
   ]
  },
  {
   "cell_type": "code",
   "execution_count": 24,
   "metadata": {
    "collapsed": false
   },
   "outputs": [],
   "source": [
    "backlinks_df = backlinks_df.drop_duplicates(subset='url')\n",
    "backlinks_df = backlinks_df.dropna()"
   ]
  },
  {
   "cell_type": "code",
   "execution_count": 25,
   "metadata": {
    "collapsed": false
   },
   "outputs": [],
   "source": [
    "backlinks_df = backlinks_df[backlinks_df.apply(lambda x: x.back_url not in x.url, axis=1)]"
   ]
  },
  {
   "cell_type": "code",
   "execution_count": 30,
   "metadata": {
    "collapsed": false
   },
   "outputs": [],
   "source": [
    "backlinks_df.to_csv(\"data/backlinks_clean.csv\", index=False, header=True)"
   ]
  },
  {
   "cell_type": "code",
   "execution_count": 2,
   "metadata": {
    "collapsed": true
   },
   "outputs": [],
   "source": [
    "# Read backlinks data\n",
    "backlinks_df = pd.read_csv(\"data/backlinks_clean.csv\")\n",
    "\n",
    "# Read links_df\n",
    "links_df = pd.read_csv(\"data/links_dataframe.csv\")"
   ]
  },
  {
   "cell_type": "code",
   "execution_count": 4,
   "metadata": {
    "collapsed": false
   },
   "outputs": [
    {
     "data": {
      "text/html": [
       "<div>\n",
       "<table border=\"1\" class=\"dataframe\">\n",
       "  <thead>\n",
       "    <tr style=\"text-align: right;\">\n",
       "      <th></th>\n",
       "      <th>back_url</th>\n",
       "      <th>url</th>\n",
       "    </tr>\n",
       "  </thead>\n",
       "  <tbody>\n",
       "    <tr>\n",
       "      <th>0</th>\n",
       "      <td>www.23w-accountants.co.uk</td>\n",
       "      <td>www.co2design.co.uk/</td>\n",
       "    </tr>\n",
       "    <tr>\n",
       "      <th>1</th>\n",
       "      <td>www.accordia.co.nz</td>\n",
       "      <td>my.accordia.co.nz</td>\n",
       "    </tr>\n",
       "    <tr>\n",
       "      <th>2</th>\n",
       "      <td>www.accountancyconsultants.co.uk</td>\n",
       "      <td>www.twitter.com/share</td>\n",
       "    </tr>\n",
       "    <tr>\n",
       "      <th>3</th>\n",
       "      <td>www.accountancyconsultants.co.uk</td>\n",
       "      <td>123.sb.mywebsite-editor.com/app/cms/logout.php</td>\n",
       "    </tr>\n",
       "    <tr>\n",
       "      <th>4</th>\n",
       "      <td>www.accountancyconsultants.co.uk</td>\n",
       "      <td>123.sb.mywebsite-editor.com/app/688937929/98920/</td>\n",
       "    </tr>\n",
       "  </tbody>\n",
       "</table>\n",
       "</div>"
      ],
      "text/plain": [
       "                           back_url  \\\n",
       "0         www.23w-accountants.co.uk   \n",
       "1                www.accordia.co.nz   \n",
       "2  www.accountancyconsultants.co.uk   \n",
       "3  www.accountancyconsultants.co.uk   \n",
       "4  www.accountancyconsultants.co.uk   \n",
       "\n",
       "                                                url  \n",
       "0                              www.co2design.co.uk/  \n",
       "1                                 my.accordia.co.nz  \n",
       "2                             www.twitter.com/share  \n",
       "3    123.sb.mywebsite-editor.com/app/cms/logout.php  \n",
       "4  123.sb.mywebsite-editor.com/app/688937929/98920/  "
      ]
     },
     "execution_count": 4,
     "metadata": {},
     "output_type": "execute_result"
    }
   ],
   "source": [
    "backlinks_df.head()"
   ]
  },
  {
   "cell_type": "code",
   "execution_count": null,
   "metadata": {
    "collapsed": true
   },
   "outputs": [],
   "source": []
  }
 ],
 "metadata": {
  "kernelspec": {
   "display_name": "Python [Root]",
   "language": "python",
   "name": "Python [Root]"
  },
  "language_info": {
   "codemirror_mode": {
    "name": "ipython",
    "version": 3
   },
   "file_extension": ".py",
   "mimetype": "text/x-python",
   "name": "python",
   "nbconvert_exporter": "python",
   "pygments_lexer": "ipython3",
   "version": "3.5.2"
  }
 },
 "nbformat": 4,
 "nbformat_minor": 0
}
