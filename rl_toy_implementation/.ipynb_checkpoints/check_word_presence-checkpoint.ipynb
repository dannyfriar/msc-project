{
 "cells": [
  {
   "cell_type": "code",
   "execution_count": 45,
   "metadata": {
    "collapsed": true
   },
   "outputs": [],
   "source": [
    "import sys\n",
    "import csv\n",
    "import ahocorasick\n",
    "import numpy as np\n",
    "import pandas as pd\n",
    "\n",
    "from nltk.corpus import stopwords, words, names\n",
    "stops = stopwords.words(\"english\")\n",
    "\n",
    "from collections import OrderedDict\n",
    "from operator import add"
   ]
  },
  {
   "cell_type": "code",
   "execution_count": 7,
   "metadata": {
    "collapsed": true
   },
   "outputs": [],
   "source": [
    "def init_automaton(string_list):\n",
    "\t\"\"\"Make Aho-Corasick automaton from a list of strings\"\"\"\n",
    "\tA = ahocorasick.Automaton()\n",
    "\tfor idx, s in enumerate(string_list):\n",
    "\t\tA.add_word(s, (idx, s))\n",
    "\treturn A\n",
    "\n",
    "def check_strings(A, search_list, string_to_search):\n",
    "\t\"\"\"Use Aho Corasick algorithm to produce boolean list indicating\n",
    "\tprescence of strings within a longer string\"\"\"\n",
    "\tindex_list = []\n",
    "\tfor item in A.iter(string_to_search):\n",
    "\t\tindex_list.append(item[1][0])\n",
    "\n",
    "\toutput_list = np.array([0] * len(search_list))\n",
    "\toutput_list[index_list] = 1\n",
    "\treturn output_list.tolist()\n",
    "\n",
    "def progress_bar(value, endvalue, bar_length=20):\n",
    "    \"\"\"Print progress bar to the console\"\"\"\n",
    "    percent = float(value) / endvalue\n",
    "    arrow = '-' * int(round(percent * bar_length)-1) + '>'\n",
    "    spaces = ' ' * (bar_length - len(arrow))\n",
    "    sys.stdout.write(\"\\rPercent complete: [{0}] {1}%\".format(arrow + spaces, int(round(percent * 100))))\n",
    "    sys.stdout.flush()"
   ]
  },
  {
   "cell_type": "code",
   "execution_count": 8,
   "metadata": {
    "collapsed": true
   },
   "outputs": [],
   "source": [
    "##-------------------- Read in data\n",
    "# Company i.e. reward URLs\n",
    "companies_df = pd.read_csv('../data/domains_clean.csv')\n",
    "companies_df = companies_df[companies_df['vert_code'] <= 69203]\n",
    "companies_df = companies_df[companies_df['vert_code'] >= 69101]\n",
    "reward_urls = companies_df['url'].tolist()"
   ]
  },
  {
   "cell_type": "code",
   "execution_count": 11,
   "metadata": {
    "collapsed": true
   },
   "outputs": [],
   "source": [
    "##------------------------ Read in words list and build automaton\n",
    "word_list = words.words() + names.words()\n",
    "word_list = [w for w in word_list if w not in stops]\n",
    "word_list = [w for w in word_list if len(w) > 1]\n",
    "A = init_automaton(word_list)\n",
    "A.make_automaton()"
   ]
  },
  {
   "cell_type": "code",
   "execution_count": 26,
   "metadata": {
    "collapsed": false
   },
   "outputs": [
    {
     "name": "stdout",
     "output_type": "stream",
     "text": [
      "Percent complete: [------------------->] 100%"
     ]
    }
   ],
   "source": [
    "# url_list = url_list[:100]\n",
    "word_count_vec = [0] * len(word_list)\n",
    "for idx, url in enumerate(reward_urls):\n",
    "    progress_bar(idx+1, len(reward_urls))\n",
    "    word_count_vec = list(map(add, word_count_vec, np.array(check_strings(A, word_list, url))))"
   ]
  },
  {
   "cell_type": "code",
   "execution_count": 42,
   "metadata": {
    "collapsed": false
   },
   "outputs": [
    {
     "data": {
      "text/html": [
       "<div>\n",
       "<table border=\"1\" class=\"dataframe\">\n",
       "  <thead>\n",
       "    <tr style=\"text-align: right;\">\n",
       "      <th></th>\n",
       "      <th>word</th>\n",
       "      <th>count</th>\n",
       "    </tr>\n",
       "  </thead>\n",
       "  <tbody>\n",
       "    <tr>\n",
       "      <th>44006</th>\n",
       "      <td>count</td>\n",
       "      <td>493</td>\n",
       "    </tr>\n",
       "    <tr>\n",
       "      <th>235709</th>\n",
       "      <td>account</td>\n",
       "      <td>486</td>\n",
       "    </tr>\n",
       "    <tr>\n",
       "      <th>197825</th>\n",
       "      <td>tan</td>\n",
       "      <td>361</td>\n",
       "    </tr>\n",
       "    <tr>\n",
       "      <th>94528</th>\n",
       "      <td>ing</td>\n",
       "      <td>300</td>\n",
       "    </tr>\n",
       "    <tr>\n",
       "      <th>235726</th>\n",
       "      <td>ant</td>\n",
       "      <td>212</td>\n",
       "    </tr>\n",
       "    <tr>\n",
       "      <th>236070</th>\n",
       "      <td>law</td>\n",
       "      <td>211</td>\n",
       "    </tr>\n",
       "    <tr>\n",
       "      <th>130850</th>\n",
       "      <td>ons</td>\n",
       "      <td>195</td>\n",
       "    </tr>\n",
       "    <tr>\n",
       "      <th>236423</th>\n",
       "      <td>tin</td>\n",
       "      <td>190</td>\n",
       "    </tr>\n",
       "    <tr>\n",
       "      <th>184367</th>\n",
       "      <td>sol</td>\n",
       "      <td>184</td>\n",
       "    </tr>\n",
       "    <tr>\n",
       "      <th>203418</th>\n",
       "      <td>ting</td>\n",
       "      <td>179</td>\n",
       "    </tr>\n",
       "  </tbody>\n",
       "</table>\n",
       "</div>"
      ],
      "text/plain": [
       "           word  count\n",
       "44006     count    493\n",
       "235709  account    486\n",
       "197825      tan    361\n",
       "94528       ing    300\n",
       "235726      ant    212\n",
       "236070      law    211\n",
       "130850      ons    195\n",
       "236423      tin    190\n",
       "184367      sol    184\n",
       "203418     ting    179"
      ]
     },
     "execution_count": 42,
     "metadata": {},
     "output_type": "execute_result"
    }
   ],
   "source": [
    "df_dict = OrderedDict()\n",
    "df_dict['word'] = word_list\n",
    "df_dict['count'] = word_count_vec\n",
    "df = pd.DataFrame.from_dict(df_dict)\n",
    "\n",
    "df = df[df['count'] > 0]\n",
    "len_filter = df['word'].str.len() > 2\n",
    "df = df[len_filter]\n",
    "df = df.sort_values('count', ascending=False)\n",
    "df.head(n=10)"
   ]
  },
  {
   "cell_type": "code",
   "execution_count": 50,
   "metadata": {
    "collapsed": false
   },
   "outputs": [],
   "source": [
    "rm_words = ['ing', 'ers', 'tin', 'cit', 'tor', 'untin', 'els', 'ich']\n",
    "final_word_list = [w for w in df['word'].tolist() if w not in rm_words]\n",
    "with open(\"data/word_feature_list.csv\", 'w') as f:\n",
    "    w = csv.writer(f)\n",
    "    w.writerow([final_word_list])"
   ]
  },
  {
   "cell_type": "code",
   "execution_count": null,
   "metadata": {
    "collapsed": true
   },
   "outputs": [],
   "source": []
  }
 ],
 "metadata": {
  "kernelspec": {
   "display_name": "Python [Root]",
   "language": "python",
   "name": "Python [Root]"
  },
  "language_info": {
   "codemirror_mode": {
    "name": "ipython",
    "version": 3
   },
   "file_extension": ".py",
   "mimetype": "text/x-python",
   "name": "python",
   "nbconvert_exporter": "python",
   "pygments_lexer": "ipython3",
   "version": "3.5.2"
  }
 },
 "nbformat": 4,
 "nbformat_minor": 0
}
